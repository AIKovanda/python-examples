{
 "cells": [
  {
   "cell_type": "code",
   "execution_count": null,
   "metadata": {},
   "outputs": [],
   "source": [
    "import random\n",
    "import time\n",
    "import sys\n",
    "\n",
    "n = 100_000\n",
    "\n",
    "# two lists of n random numbers from 0 to 99\n",
    "x = [random.randrange(100) for _ in range(n)]\n",
    "y = [random.randrange(100) for _ in range(n)]\n",
    "\n",
    "#start counting time\n",
    "start = time.time()\n",
    "\n",
    "#make a list by multiplying the elements of the lists\n",
    "i, z = 0, []\n",
    "while i < n:\n",
    "    z.append(x[i] * y[i])\n",
    "    i += 1\n",
    "    \n",
    "#print elapsed time and memory\n",
    "end = time.time()\n",
    "mem = sys.getsizeof(z)\n",
    "print('elapsed time = {}\\nused memoty = {}'.format(end-start, mem))"
   ]
  },
  {
   "cell_type": "markdown",
   "metadata": {},
   "source": [
    "## Alternativa: Numpy"
   ]
  },
  {
   "cell_type": "code",
   "execution_count": null,
   "metadata": {},
   "outputs": [],
   "source": [
    "import numpy as np\n",
    "\n",
    "x = np.array(x)\n",
    "y = np.array(y)\n",
    "\n",
    "#start counting time\n",
    "start_alt = time.time()\n",
    "\n",
    "#...\n",
    "z = x * y\n",
    "\n",
    "#print elapsed time\n",
    "end_alt = time.time()\n",
    "mem_alt = sys.getsizeof(z)\n",
    "print('elapsed time = {}\\nused memoty = {}'.format(end_alt-start_alt, mem_alt))"
   ]
  },
  {
   "cell_type": "code",
   "execution_count": null,
   "metadata": {},
   "outputs": [],
   "source": [
    " (end-start) - (end_alt-start_alt)"
   ]
  },
  {
   "cell_type": "code",
   "execution_count": null,
   "metadata": {},
   "outputs": [],
   "source": [
    "mem - mem_alt"
   ]
  },
  {
   "cell_type": "markdown",
   "metadata": {},
   "source": [
    "<div><img src=\"https://upload.wikimedia.org/wikipedia/commons/3/31/NumPy_logo_2020.svg\" width=300></div>\n",
    "\n",
    "\n",
    "* základní balíček pro vědecké výpočty v Pythonu\n",
    "* operace mezi prvky jsou provedeny v překompilovaném C nebo Fortranu\n",
    "* vektorizovaný kód\n",
    " * \"zmizel\" nám for cyklus\n",
    " * méně řádků = méně chyb\n",
    " \n",
    " ## ndarray\n",
    "* n-rozměrné homogenní pole\n",
    "* můžeme vytvořit z **listu** nebo tuplu\n",
    "* vícerozměré pole je vytvořeno jako sekvence ze sekvencí"
   ]
  },
  {
   "cell_type": "code",
   "execution_count": null,
   "metadata": {},
   "outputs": [],
   "source": [
    "arr = np.array([1,2,3])\n",
    "arr"
   ]
  },
  {
   "cell_type": "code",
   "execution_count": null,
   "metadata": {},
   "outputs": [],
   "source": [
    "arr2d = np.array([[1,2,3],[4,5,6]])\n",
    "arr2d"
   ]
  },
  {
   "cell_type": "markdown",
   "metadata": {},
   "source": [
    "* rozdíl mezi ndarray a std. sekvencemi:\n",
    " * homogenní\n",
    " * pevná velikost"
   ]
  },
  {
   "cell_type": "markdown",
   "metadata": {},
   "source": [
    "* same data type  (dtype)"
   ]
  },
  {
   "cell_type": "code",
   "execution_count": null,
   "metadata": {},
   "outputs": [],
   "source": [
    "arr = np.array(['s',1])\n",
    "arr"
   ]
  },
  {
   "cell_type": "code",
   "execution_count": null,
   "metadata": {},
   "outputs": [],
   "source": [
    "arr[1]+1          # ...ERROR"
   ]
  },
  {
   "cell_type": "markdown",
   "metadata": {},
   "source": [
    "   *  objekt jako dtype"
   ]
  },
  {
   "cell_type": "code",
   "execution_count": null,
   "metadata": {},
   "outputs": [],
   "source": [
    "arr = np.array(['s',[1,2]])\n",
    "arr"
   ]
  },
  {
   "cell_type": "markdown",
   "metadata": {},
   "source": [
    "### důležité attributy: "
   ]
  },
  {
   "cell_type": "markdown",
   "metadata": {},
   "source": [
    "* ndim"
   ]
  },
  {
   "cell_type": "code",
   "execution_count": null,
   "metadata": {},
   "outputs": [],
   "source": [
    "arr = np.array([[1,1,1],[2,2,2]])\n",
    "arr.ndim"
   ]
  },
  {
   "cell_type": "markdown",
   "metadata": {},
   "source": [
    "při použití objeků..."
   ]
  },
  {
   "cell_type": "code",
   "execution_count": null,
   "metadata": {},
   "outputs": [],
   "source": [
    "arr = np.array([[1,1],[1,2,3]])\n",
    "arr.ndim"
   ]
  },
  {
   "cell_type": "markdown",
   "metadata": {},
   "source": [
    "* tvar (shape)"
   ]
  },
  {
   "cell_type": "code",
   "execution_count": null,
   "metadata": {},
   "outputs": [],
   "source": [
    "arr = np.array([[1,1,1],[2,2,2]])\n",
    "arr.shape"
   ]
  },
  {
   "cell_type": "markdown",
   "metadata": {},
   "source": [
    "* velikost (size)"
   ]
  },
  {
   "cell_type": "code",
   "execution_count": null,
   "metadata": {},
   "outputs": [],
   "source": [
    "arr.size"
   ]
  },
  {
   "cell_type": "markdown",
   "metadata": {},
   "source": [
    "* typ dat (dtype)"
   ]
  },
  {
   "cell_type": "code",
   "execution_count": null,
   "metadata": {},
   "outputs": [],
   "source": [
    "arr.dtype"
   ]
  },
  {
   "cell_type": "markdown",
   "metadata": {},
   "source": [
    "* veklikost prvku (itemsize)"
   ]
  },
  {
   "cell_type": "code",
   "execution_count": null,
   "metadata": {
    "scrolled": true
   },
   "outputs": [],
   "source": [
    "print(arr.itemsize)\n",
    "sys.getsizeof(int())"
   ]
  },
  {
   "cell_type": "markdown",
   "metadata": {},
   "source": [
    "* data"
   ]
  },
  {
   "cell_type": "code",
   "execution_count": null,
   "metadata": {},
   "outputs": [],
   "source": [
    "arr.data"
   ]
  },
  {
   "cell_type": "markdown",
   "metadata": {},
   "source": [
    "## Základní operace"
   ]
  },
  {
   "cell_type": "code",
   "execution_count": null,
   "metadata": {},
   "outputs": [],
   "source": [
    "arr2d = np.array([[1,2,3,4],[8,9,10,11]])\n",
    "arr2d+arr2d"
   ]
  },
  {
   "cell_type": "code",
   "execution_count": null,
   "metadata": {},
   "outputs": [],
   "source": [
    "arr2d-arr2d"
   ]
  },
  {
   "cell_type": "code",
   "execution_count": null,
   "metadata": {},
   "outputs": [],
   "source": [
    "arr2d*arr2d"
   ]
  },
  {
   "cell_type": "code",
   "execution_count": null,
   "metadata": {},
   "outputs": [],
   "source": [
    "1/arr2d"
   ]
  },
  {
   "cell_type": "code",
   "execution_count": null,
   "metadata": {
    "scrolled": true
   },
   "outputs": [],
   "source": [
    "arr2d**2"
   ]
  },
  {
   "cell_type": "markdown",
   "metadata": {},
   "source": [
    "## Broadcasting\n",
    "* aneb když máme 2 pole o jiných rozměrech"
   ]
  },
  {
   "cell_type": "code",
   "execution_count": null,
   "metadata": {},
   "outputs": [],
   "source": [
    "arr = np.arange(6)  # creates an array of integers from 0 to 6\n",
    "arr.resize((2,3))  # reshapes it into a matrix\n",
    "arr"
   ]
  },
  {
   "cell_type": "code",
   "execution_count": null,
   "metadata": {},
   "outputs": [],
   "source": [
    "arr2 = np.array([[0,1,3]])\n",
    "arr + arr2"
   ]
  },
  {
   "cell_type": "markdown",
   "metadata": {},
   "source": [
    "* NumPy porovná tvary polí\n",
    "* 2 dimenze jsou kompatibilní, pokud jsou stejné nebo jedna z nich je rovna 1"
   ]
  },
  {
   "cell_type": "code",
   "execution_count": null,
   "metadata": {},
   "outputs": [],
   "source": [
    "# if not...\n",
    "arr2 = np.array([[0,1]])\n",
    "arr + arr2"
   ]
  },
  {
   "cell_type": "markdown",
   "metadata": {},
   "source": [
    "## Indexování"
   ]
  },
  {
   "cell_type": "code",
   "execution_count": null,
   "metadata": {},
   "outputs": [],
   "source": [
    "def basic_array():\n",
    "    arr2d = np.zeros((6,6))\n",
    "    for i in range(6):\n",
    "        for j in range(6):\n",
    "            arr2d[i,j] = 10*i+j\n",
    "    return arr2d\n",
    "\n",
    "arr2d = basic_array()\n",
    "arr2d"
   ]
  },
  {
   "cell_type": "code",
   "execution_count": null,
   "metadata": {},
   "outputs": [],
   "source": [
    "arr2d[0][1]"
   ]
  },
  {
   "cell_type": "code",
   "execution_count": null,
   "metadata": {},
   "outputs": [],
   "source": [
    "arr2d[0,1]"
   ]
  },
  {
   "cell_type": "markdown",
   "metadata": {},
   "source": [
    "### Indexování - Fancy Indexing\n",
    "* lze použít list intů jako index\n",
    "* inty nemusí být seřazené"
   ]
  },
  {
   "cell_type": "code",
   "execution_count": null,
   "metadata": {},
   "outputs": [],
   "source": [
    "l1 = [4,2]\n",
    "arr2d = basic_array()\n",
    "arr2d[l1]"
   ]
  },
  {
   "cell_type": "code",
   "execution_count": null,
   "metadata": {},
   "outputs": [],
   "source": [
    "arr2d[:,l1] = 0\n",
    "arr2d"
   ]
  },
  {
   "cell_type": "code",
   "execution_count": null,
   "metadata": {},
   "outputs": [],
   "source": [
    "# ...ERROR\n",
    "l2 = [0,1,3]\n",
    "arr2d[l1, l2]"
   ]
  },
  {
   "cell_type": "markdown",
   "metadata": {},
   "source": [
    "Co se stalo?"
   ]
  },
  {
   "cell_type": "code",
   "execution_count": null,
   "metadata": {},
   "outputs": [],
   "source": [
    "arr2d[[1,2,3],[1,2,3]]"
   ]
  },
  {
   "cell_type": "markdown",
   "metadata": {},
   "source": [
    "Můžeme provést toto"
   ]
  },
  {
   "cell_type": "code",
   "execution_count": null,
   "metadata": {},
   "outputs": [],
   "source": [
    "arr2d[l1][:,l2]"
   ]
  },
  {
   "cell_type": "markdown",
   "metadata": {},
   "source": [
    "ale potom nefunguje přiřazování"
   ]
  },
  {
   "cell_type": "code",
   "execution_count": null,
   "metadata": {},
   "outputs": [],
   "source": [
    "arr2d = basic_array()\n",
    "arr2d[l1][:,l2] = 100\n",
    "arr2d"
   ]
  },
  {
   "cell_type": "markdown",
   "metadata": {},
   "source": [
    "Co se tady děje..."
   ]
  },
  {
   "cell_type": "code",
   "execution_count": null,
   "metadata": {},
   "outputs": [],
   "source": [
    "#this notation\n",
    "arr2d[l1] = 100\n",
    "print(arr2d)\n",
    "print(\"\\n\")\n",
    "# is equal to\n",
    "arr2d.__setitem__(l1, 0)\n",
    "print(arr2d)"
   ]
  },
  {
   "cell_type": "markdown",
   "metadata": {},
   "source": [
    "* není zapotřebí vytvořit view nebo copy (více dále)\n",
    "* tzn, nevytváří se žádný nový objekt"
   ]
  },
  {
   "cell_type": "code",
   "execution_count": null,
   "metadata": {},
   "outputs": [],
   "source": [
    "arr2d = basic_array()\n",
    "# However...\n",
    "arr2d[l1][:,l2] = 100\n",
    "# this notation is equal to\n",
    "aux = arr2d.__getitem__(l1)     # creation of new object\n",
    "aux.T.__setitem__(l2, 0)\n",
    "print('\\naux = \\n{}\\n\\narr2d =\\n{}'.format(aux, arr2d))"
   ]
  },
  {
   "cell_type": "markdown",
   "metadata": {},
   "source": [
    "## View and Copy\n",
    "* view: nový pohled na ten samý úsek paměti\n",
    "* copy: kopie paměti v jiné lokaci\n",
    "\n",
    "\n",
    "### View"
   ]
  },
  {
   "cell_type": "code",
   "execution_count": null,
   "metadata": {},
   "outputs": [],
   "source": [
    "arr = np.arange(5)   # base array\n",
    "aux = arr.view()     # view\n",
    "aux[0] = 100\n",
    "arr[1] = 200\n",
    "print('arr = {}'.format(arr))\n",
    "print('aux = {}'.format(aux))"
   ]
  },
  {
   "cell_type": "markdown",
   "metadata": {},
   "source": [
    ".base vrací None, pokud pole data vlastní, jinak vrací původní objekt"
   ]
  },
  {
   "cell_type": "code",
   "execution_count": null,
   "metadata": {},
   "outputs": [],
   "source": [
    "aux.base"
   ]
  },
  {
   "cell_type": "markdown",
   "metadata": {},
   "source": [
    "* stejný výsledek mohu získat jako"
   ]
  },
  {
   "cell_type": "code",
   "execution_count": null,
   "metadata": {},
   "outputs": [],
   "source": [
    "arr = np.arange(5)\n",
    "aux = arr\n",
    "aux[0] = 100\n",
    "arr[1] = 200\n",
    "print('arr = {}'.format(arr))\n",
    "print('aux = {}'.format(aux))"
   ]
  },
  {
   "cell_type": "markdown",
   "metadata": {},
   "source": [
    "* stačí =\n",
    "* co se děje?\n",
    " * pokud zavřeme obě oči (src jsem nestudoval): překlad do C++ v souboru view.cpp\n",
    "* jaký je tedy smysl .view()?      ... view casting (uvedeme za chvíli)"
   ]
  },
  {
   "cell_type": "markdown",
   "metadata": {},
   "source": [
    "#### View - slicing\n",
    "* speciální případ View\n",
    "* obdobná syntaxe jako u jiných Pytnovských objektů"
   ]
  },
  {
   "cell_type": "code",
   "execution_count": null,
   "metadata": {
    "scrolled": true
   },
   "outputs": [],
   "source": [
    "arr2d = basic_array()\n",
    "arr2d_slice = arr2d[1:3, 3:5]    # base array\n",
    "arr2d_slice[:] = 100              # view\n",
    "arr2d"
   ]
  },
  {
   "cell_type": "markdown",
   "metadata": {},
   "source": [
    "* nefunguje pokud kombinujeme slicing a fancy indexing"
   ]
  },
  {
   "cell_type": "code",
   "execution_count": null,
   "metadata": {
    "scrolled": true
   },
   "outputs": [],
   "source": [
    "arr2d_slice = arr2d[1:3, [2,3]]\n",
    "arr2d_slice[:] = 77\n",
    "arr2d"
   ]
  },
  {
   "cell_type": "markdown",
   "metadata": {},
   "source": [
    "#### Copy"
   ]
  },
  {
   "cell_type": "code",
   "execution_count": null,
   "metadata": {},
   "outputs": [],
   "source": [
    "arr2d = basic_array()\n",
    "arr2d_slice = arr2d[1:3, 3:5].copy()\n",
    "arr2d_slice[:] = 100\n",
    "arr2d"
   ]
  },
  {
   "cell_type": "code",
   "execution_count": null,
   "metadata": {},
   "outputs": [],
   "source": [
    "arr2d_slice"
   ]
  },
  {
   "cell_type": "code",
   "execution_count": null,
   "metadata": {},
   "outputs": [],
   "source": [
    "print(arr2d_slice.base)"
   ]
  },
  {
   "cell_type": "markdown",
   "metadata": {},
   "source": [
    "#### Která úprava změní původní pole?"
   ]
  },
  {
   "cell_type": "code",
   "execution_count": null,
   "metadata": {},
   "outputs": [],
   "source": [
    "arr2d = np.array([[1,2,3],[4,5,6],[7,8,9]])\n",
    "l1 = [0,2]\n",
    "\n",
    "arr2d[:1, :][:, l1] = 100\n",
    "arr2d"
   ]
  },
  {
   "cell_type": "code",
   "execution_count": null,
   "metadata": {},
   "outputs": [],
   "source": [
    "arr2d = np.array([[1,2,3],[4,5,6],[7,8,9]])\n",
    "l1 = [0,2]\n",
    "\n",
    "arr2d[l1, :][:, :1] = 100\n",
    "arr2d"
   ]
  },
  {
   "cell_type": "markdown",
   "metadata": {},
   "source": [
    "## Indexování - Boolean indexing"
   ]
  },
  {
   "cell_type": "code",
   "execution_count": null,
   "metadata": {},
   "outputs": [],
   "source": [
    "arr = np.array([1,2,3,4,5])\n",
    "arr < 3"
   ]
  },
  {
   "cell_type": "markdown",
   "metadata": {},
   "source": [
    "* lze použít 2 podmínky, tak jak normálně v Pythonu?"
   ]
  },
  {
   "cell_type": "code",
   "execution_count": null,
   "metadata": {},
   "outputs": [],
   "source": [
    "arr < 3 and arr > 1"
   ]
  },
  {
   "cell_type": "markdown",
   "metadata": {},
   "source": [
    "* musíme použít značení v C++ (ale NEZDVOJUJEME) + závorky"
   ]
  },
  {
   "cell_type": "code",
   "execution_count": null,
   "metadata": {},
   "outputs": [],
   "source": [
    "(arr < 3) & (arr > 1)"
   ]
  },
  {
   "cell_type": "code",
   "execution_count": null,
   "metadata": {},
   "outputs": [],
   "source": [
    "(arr < 3) | (arr > 3 )"
   ]
  },
  {
   "cell_type": "code",
   "execution_count": null,
   "metadata": {},
   "outputs": [],
   "source": [
    "arr < 3 | arr > 3"
   ]
  },
  {
   "cell_type": "markdown",
   "metadata": {},
   "source": [
    "* indexování"
   ]
  },
  {
   "cell_type": "code",
   "execution_count": null,
   "metadata": {},
   "outputs": [],
   "source": [
    "arr[(arr < 3) & (arr > 1)] = 99\n",
    "arr"
   ]
  },
  {
   "cell_type": "markdown",
   "metadata": {},
   "source": [
    "## Subclassing\n",
    "* view casting - vytvoří pohled na existující pole jako specializovanou podtřídu\n",
    "* Dispatch mechanism - tvorba vlastních kontainerů polí\n",
    "### view casting"
   ]
  },
  {
   "cell_type": "code",
   "execution_count": null,
   "metadata": {
    "scrolled": true
   },
   "outputs": [],
   "source": [
    "class C(np.ndarray):        \n",
    "    def my_func(self):\n",
    "        self[0] += 100\n",
    "arr = np.arange(5)\n",
    "c_arr = arr.view(C)\n",
    "print('before: c_arr = {}'.format(c_arr))\n",
    "c_arr.my_func()\n",
    "print('after:  c_arr = {}'.format(c_arr))\n",
    "print('after:  arr   = {}'.format(arr))"
   ]
  },
  {
   "cell_type": "code",
   "execution_count": null,
   "metadata": {},
   "outputs": [],
   "source": [
    "c_arr.base"
   ]
  },
  {
   "cell_type": "markdown",
   "metadata": {},
   "source": [
    "* nemohu použít konstruktor z ndarray?"
   ]
  },
  {
   "cell_type": "code",
   "execution_count": null,
   "metadata": {},
   "outputs": [],
   "source": [
    "aux = C([1, 2, 3])\n",
    "aux"
   ]
  },
  {
   "cell_type": "markdown",
   "metadata": {},
   "source": [
    "### Dispatch mechanism\n",
    "* doporučený přístup\n",
    "* př: CuPy arrays (n-rozměrná pole na GPU)\n",
    "* užití \\_\\_array__()"
   ]
  },
  {
   "cell_type": "code",
   "execution_count": null,
   "metadata": {},
   "outputs": [],
   "source": [
    "class Diagonal:\n",
    "    def __init__(self, N, value):\n",
    "        self.N = N\n",
    "        self.value = value\n",
    "    def __array__(self):\n",
    "        return self.value * np.eye(5)\n",
    "arr = Diagonal(5,2)\n",
    "np.asarray(arr)"
   ]
  },
  {
   "cell_type": "code",
   "execution_count": null,
   "metadata": {
    "scrolled": true
   },
   "outputs": [],
   "source": [
    "arr = np.multiply(arr, 5)\n",
    "arr"
   ]
  },
  {
   "cell_type": "code",
   "execution_count": null,
   "metadata": {},
   "outputs": [],
   "source": [
    "type(arr)"
   ]
  },
  {
   "cell_type": "markdown",
   "metadata": {},
   "source": [
    "## Input & Output\n",
    "* NumPy má vlastní funkce pro zápis a načítání polí\n",
    "* komprese\n",
    "* vytvoří nebo přepíše\n",
    "* .npy uloží všechny potřebné informace potřebné k rekonstrukci pole (data, dtype, shape)"
   ]
  },
  {
   "cell_type": "code",
   "execution_count": null,
   "metadata": {},
   "outputs": [],
   "source": [
    "arr2d = basic_array()\n",
    "np.save('src/arr2d',arr2d)\n",
    "aux = np.load('src/arr2d.npy')\n",
    "aux"
   ]
  },
  {
   "cell_type": "code",
   "execution_count": null,
   "metadata": {},
   "outputs": [],
   "source": [
    "arr2d += 100\n",
    "np.save('src/arr2d',arr2d)\n",
    "aux = np.load('src/arr2d.npy')\n",
    "aux"
   ]
  },
  {
   "cell_type": "markdown",
   "metadata": {},
   "source": [
    "* .npz (zip) uloží více polí\n",
    " * klíč"
   ]
  },
  {
   "cell_type": "code",
   "execution_count": null,
   "metadata": {},
   "outputs": [],
   "source": [
    "arr = np.array([1,2,3])\n",
    "np.savez('src/ziparr', arr, y = arr2d)   \n",
    "aux = np.load('src/ziparr.npz')\n",
    "\n",
    "aux.files"
   ]
  },
  {
   "cell_type": "code",
   "execution_count": null,
   "metadata": {},
   "outputs": [],
   "source": [
    "aux['arr_0']"
   ]
  },
  {
   "cell_type": "code",
   "execution_count": null,
   "metadata": {},
   "outputs": [],
   "source": [
    "aux['y']"
   ]
  },
  {
   "cell_type": "code",
   "execution_count": null,
   "metadata": {},
   "outputs": [],
   "source": [
    "arr = np.array([1,1])\n",
    "np.savez('src/ziparr', z = arr)\n",
    "aux = np.load('src/ziparr.npz')\n",
    "aux.files"
   ]
  },
  {
   "cell_type": "markdown",
   "metadata": {},
   "source": [
    "## RNG\n",
    "* pseudo náhodná čísla\n",
    "* dříve RandomState\n",
    "* BitGenerátory vytvoří posloupnosti náhodných čísel\n",
    "* Generátory transofrmují tyto posloupnosti do posloupností, které se řídí určitým rozdělením\n",
    " * Generátory mohou být inicializovány pomocí více BitGenerátorů"
   ]
  },
  {
   "cell_type": "code",
   "execution_count": null,
   "metadata": {},
   "outputs": [],
   "source": [
    "from numpy import random as ran "
   ]
  },
  {
   "cell_type": "code",
   "execution_count": null,
   "metadata": {},
   "outputs": [],
   "source": [
    "rng = ran.default_rng()     # new instance of Generator\n",
    "vals1 = rng.standard_normal(10)\n",
    "vals1"
   ]
  },
  {
   "cell_type": "code",
   "execution_count": null,
   "metadata": {},
   "outputs": [],
   "source": [
    "vals2 = rng.standard_normal(10)\n",
    "vals2"
   ]
  },
  {
   "cell_type": "code",
   "execution_count": null,
   "metadata": {},
   "outputs": [],
   "source": [
    "vals1 = rng.normal(loc=10,scale=20, size=5)\n",
    "vals1"
   ]
  },
  {
   "cell_type": "markdown",
   "metadata": {},
   "source": [
    "  * Generátor obsahuje svůj vlastní interní BitGenerátor"
   ]
  },
  {
   "cell_type": "code",
   "execution_count": null,
   "metadata": {},
   "outputs": [],
   "source": [
    "rng.bit_generator"
   ]
  },
  {
   "cell_type": "markdown",
   "metadata": {},
   "source": [
    "### Seeding\n",
    "...zhruba\n",
    "* chceme reprodukovatelnou posloupnost náhodných čísel\n",
    "* BitGenerator si vezme libovolně velké přirozené číslo, nebo list takových čísel jako seed\n",
    " * problém s kvalitou, tj: chceme kvalitní výstup náhodných čísel bez ohledu na seed\n",
    " * delegováno funkci SeedSequence\n",
    "* krátkodobá paměť"
   ]
  },
  {
   "cell_type": "code",
   "execution_count": null,
   "metadata": {},
   "outputs": [],
   "source": [
    "seed = 123456789\n",
    "ss = ran.SeedSequence(seed)\n",
    "rng = ran.default_rng(ss)\n",
    "vals1 = rng.standard_normal(10)\n",
    "vals1"
   ]
  },
  {
   "cell_type": "code",
   "execution_count": null,
   "metadata": {},
   "outputs": [],
   "source": [
    "rng = ran.default_rng(ss)\n",
    "vals2 = rng.standard_normal(10)\n",
    "vals2"
   ]
  },
  {
   "cell_type": "code",
   "execution_count": null,
   "metadata": {},
   "outputs": [],
   "source": [
    "vals1 - vals2"
   ]
  },
  {
   "cell_type": "code",
   "execution_count": null,
   "metadata": {},
   "outputs": [],
   "source": [
    "rng = ran.default_rng(ss)\n",
    "vals1 = rng.standard_normal(10)\n",
    "vals2 = rng.standard_normal(10)\n",
    "vals1 - vals2"
   ]
  },
  {
   "cell_type": "markdown",
   "metadata": {},
   "source": [
    "#### Entropie\n",
    "* atribut SeedSequence\n",
    "* (berte s rezervou) náhodné číslo, které získá OS. Toto číslo se může například brát z pohybu myši."
   ]
  },
  {
   "cell_type": "code",
   "execution_count": null,
   "metadata": {},
   "outputs": [],
   "source": [
    "ss = np.random.SeedSequence()\n",
    "ss.entropy"
   ]
  },
  {
   "cell_type": "markdown",
   "metadata": {},
   "source": [
    "* obvyklý postup generace náhodných čísel"
   ]
  },
  {
   "cell_type": "code",
   "execution_count": null,
   "metadata": {},
   "outputs": [],
   "source": [
    "ss_aux = np.random.SeedSequence()\n",
    "ss = np.random.SeedSequence(ss_aux.entropy)\n",
    "rng = ran.default_rng(ss)\n",
    "vals = rng.standard_normal(10)\n",
    "vals"
   ]
  },
  {
   "cell_type": "markdown",
   "metadata": {},
   "source": [
    "## Lineární algebra\n",
    "### linalg\n",
    "* překryv s scipy.linalg\n",
    "* SciPy obsahuje víc funkcí, např. LU rozklad\n",
    "* některé funkce se liší v argumentech, např: sc.linalg.eig, np.linalg.solve"
   ]
  },
  {
   "cell_type": "code",
   "execution_count": null,
   "metadata": {},
   "outputs": [],
   "source": [
    "from scipy import linalg"
   ]
  },
  {
   "cell_type": "code",
   "execution_count": null,
   "metadata": {},
   "outputs": [],
   "source": [
    "arr1 = np.array([0,1,2,3,4])\n",
    "arr2 = np.array([5,6,7,8,9])"
   ]
  },
  {
   "cell_type": "code",
   "execution_count": null,
   "metadata": {},
   "outputs": [],
   "source": [
    "np.inner(arr1, arr2)"
   ]
  },
  {
   "cell_type": "code",
   "execution_count": null,
   "metadata": {},
   "outputs": [],
   "source": [
    "np.outer(arr1, arr2)"
   ]
  },
  {
   "cell_type": "markdown",
   "metadata": {},
   "source": [
    "### vlastní čísla"
   ]
  },
  {
   "cell_type": "code",
   "execution_count": null,
   "metadata": {},
   "outputs": [],
   "source": [
    "arr2d = np.diag([1,2,3])\n",
    "np.linalg.eig(arr2d)"
   ]
  },
  {
   "cell_type": "code",
   "execution_count": null,
   "metadata": {},
   "outputs": [],
   "source": [
    "arr2d = np.array([[1, -1], [1, 1]])\n",
    "np.linalg.eig(arr2d)"
   ]
  },
  {
   "cell_type": "markdown",
   "metadata": {},
   "source": [
    "* zaokrouhlovací chyby"
   ]
  },
  {
   "cell_type": "code",
   "execution_count": null,
   "metadata": {
    "scrolled": true
   },
   "outputs": [],
   "source": [
    "arr2d = np.array([[1 + 1e-9, 0], [0, 1 - 1e-9]])\n",
    "np.linalg.eig(arr2d)"
   ]
  },
  {
   "cell_type": "markdown",
   "metadata": {},
   "source": [
    "##### SciPy"
   ]
  },
  {
   "cell_type": "code",
   "execution_count": null,
   "metadata": {},
   "outputs": [],
   "source": [
    "arr2d = np.diag([1,2,3])\n",
    "linalg.eig(arr2d)"
   ]
  },
  {
   "cell_type": "markdown",
   "metadata": {},
   "source": [
    "* SciPy umožňuje modifikovat matici $\\mathbb{B}$ ve vztahu $\\mathbb{A} - \\lambda\\mathbb{B}$\n",
    " * defaultně $\\mathbb{B} = \\mathbb{I}$"
   ]
  },
  {
   "cell_type": "code",
   "execution_count": null,
   "metadata": {},
   "outputs": [],
   "source": [
    "arr2d2 = 2*np.eye(3)\n",
    "linalg.eig(arr2d, arr2d2)"
   ]
  },
  {
   "cell_type": "markdown",
   "metadata": {},
   "source": [
    "#### QR algoritmus"
   ]
  },
  {
   "cell_type": "code",
   "execution_count": null,
   "metadata": {},
   "outputs": [],
   "source": [
    "q, r = np.linalg.qr(arr2d)"
   ]
  },
  {
   "cell_type": "code",
   "execution_count": null,
   "metadata": {},
   "outputs": [],
   "source": [
    "q"
   ]
  },
  {
   "cell_type": "code",
   "execution_count": null,
   "metadata": {},
   "outputs": [],
   "source": [
    "r"
   ]
  },
  {
   "cell_type": "markdown",
   "metadata": {},
   "source": [
    "### LAR"
   ]
  },
  {
   "cell_type": "code",
   "execution_count": null,
   "metadata": {},
   "outputs": [],
   "source": [
    "arr2d = np.diag([1,2,3])\n",
    "b = [1,1,1]\n",
    "np.linalg.solve(arr2d, b)"
   ]
  },
  {
   "cell_type": "markdown",
   "metadata": {},
   "source": [
    "* více najednou"
   ]
  },
  {
   "cell_type": "code",
   "execution_count": null,
   "metadata": {},
   "outputs": [],
   "source": [
    "arr2d2 = np.stack([arr2d, arr2d])\n",
    "b2 = np.stack([b, b])"
   ]
  },
  {
   "cell_type": "code",
   "execution_count": null,
   "metadata": {},
   "outputs": [],
   "source": [
    "np.linalg.solve(arr2d2, b2)"
   ]
  },
  {
   "cell_type": "markdown",
   "metadata": {},
   "source": [
    "##### SciPy"
   ]
  },
  {
   "cell_type": "code",
   "execution_count": null,
   "metadata": {},
   "outputs": [],
   "source": [
    "arr2d = np.diag([1,2,3])\n",
    "b = [1,1,1]\n",
    "linalg.solve(arr2d, b)"
   ]
  },
  {
   "cell_type": "code",
   "execution_count": null,
   "metadata": {},
   "outputs": [],
   "source": [
    "arr2d2 = np.stack([arr2d, arr2d])\n",
    "b2 = np.stack([b, b])"
   ]
  },
  {
   "cell_type": "markdown",
   "metadata": {},
   "source": [
    "* více najednou"
   ]
  },
  {
   "cell_type": "code",
   "execution_count": null,
   "metadata": {},
   "outputs": [],
   "source": [
    "linalg.solve(arr2d2, b2)"
   ]
  }
 ],
 "metadata": {
  "kernelspec": {
   "display_name": "Python 3 (ipykernel)",
   "language": "python",
   "name": "python3"
  },
  "language_info": {
   "codemirror_mode": {
    "name": "ipython",
    "version": 3
   },
   "file_extension": ".py",
   "mimetype": "text/x-python",
   "name": "python",
   "nbconvert_exporter": "python",
   "pygments_lexer": "ipython3",
   "version": "3.10.5"
  }
 },
 "nbformat": 4,
 "nbformat_minor": 4
}
