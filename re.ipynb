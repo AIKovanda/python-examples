{
 "cells": [
  {
   "cell_type": "markdown",
   "metadata": {},
   "source": [
    "# re\n",
    "\n",
    "Použití pro\n",
    "+ regulární výrazy\n",
    "+ práci s textem, zpracování textu\n",
    "\n",
    "## Úvod\n",
    "\n",
    "Import knihovny:"
   ]
  },
  {
   "cell_type": "code",
   "execution_count": 1,
   "metadata": {
    "execution": {
     "iopub.execute_input": "2022-10-15T09:23:39.523574Z",
     "iopub.status.busy": "2022-10-15T09:23:39.523324Z",
     "iopub.status.idle": "2022-10-15T09:23:39.528747Z",
     "shell.execute_reply": "2022-10-15T09:23:39.528313Z",
     "shell.execute_reply.started": "2022-10-15T09:23:39.523531Z"
    }
   },
   "outputs": [],
   "source": [
    "import re"
   ]
  },
  {
   "cell_type": "markdown",
   "metadata": {},
   "source": [
    "V rámci této knihovny ukládáme regulární výrazy ve tvaru `r\"string\"` v rámci tzv. __raw string__ z důvodu odlišného chování:"
   ]
  },
  {
   "cell_type": "code",
   "execution_count": 2,
   "metadata": {
    "execution": {
     "iopub.execute_input": "2022-10-15T09:23:40.564617Z",
     "iopub.status.busy": "2022-10-15T09:23:40.564309Z",
     "iopub.status.idle": "2022-10-15T09:23:40.566956Z",
     "shell.execute_reply": "2022-10-15T09:23:40.566584Z",
     "shell.execute_reply.started": "2022-10-15T09:23:40.564603Z"
    }
   },
   "outputs": [
    {
     "name": "stdout",
     "output_type": "stream",
     "text": [
      "hello\n",
      "everyone\n"
     ]
    }
   ],
   "source": [
    "print(\"hello\\neveryone\")"
   ]
  },
  {
   "cell_type": "code",
   "execution_count": 3,
   "metadata": {
    "execution": {
     "iopub.execute_input": "2022-10-15T09:23:40.964122Z",
     "iopub.status.busy": "2022-10-15T09:23:40.963906Z",
     "iopub.status.idle": "2022-10-15T09:23:40.966548Z",
     "shell.execute_reply": "2022-10-15T09:23:40.966115Z",
     "shell.execute_reply.started": "2022-10-15T09:23:40.964108Z"
    }
   },
   "outputs": [
    {
     "name": "stdout",
     "output_type": "stream",
     "text": [
      "hello\\neveryone\n"
     ]
    }
   ],
   "source": [
    "print(r\"hello\\neveryone\")"
   ]
  },
  {
   "cell_type": "markdown",
   "metadata": {},
   "source": [
    "## Základní funkce knihovny re\n",
    "\n",
    "Použití funkce `re.match` na zjištění, jestli daný řetězec začíná nějakým výrazem:"
   ]
  },
  {
   "cell_type": "code",
   "execution_count": 4,
   "metadata": {
    "execution": {
     "iopub.execute_input": "2022-10-15T09:26:02.527072Z",
     "iopub.status.busy": "2022-10-15T09:26:02.526754Z",
     "iopub.status.idle": "2022-10-15T09:26:02.529961Z",
     "shell.execute_reply": "2022-10-15T09:26:02.529435Z",
     "shell.execute_reply.started": "2022-10-15T09:26:02.527057Z"
    }
   },
   "outputs": [
    {
     "name": "stdout",
     "output_type": "stream",
     "text": [
      "Not really\n"
     ]
    }
   ],
   "source": [
    "if re.match(r\"Hi\", \"Hello everyone!\"):\n",
    "    print(\"Match\")\n",
    "else:\n",
    "    print(\"Not really\")"
   ]
  },
  {
   "cell_type": "markdown",
   "metadata": {},
   "source": [
    "Dalšími možnostmi jsou použití funkcí `re.search` a `re.findall`. První jmenovaná se používá pro vyhledání řetězce kdekoliv v textu a ta druhá potom pro vyhledání všech takových míst."
   ]
  },
  {
   "cell_type": "code",
   "execution_count": 5,
   "metadata": {
    "execution": {
     "iopub.execute_input": "2022-10-15T09:26:14.406283Z",
     "iopub.status.busy": "2022-10-15T09:26:14.405917Z",
     "iopub.status.idle": "2022-10-15T09:26:14.409944Z",
     "shell.execute_reply": "2022-10-15T09:26:14.409322Z",
     "shell.execute_reply.started": "2022-10-15T09:26:14.406263Z"
    }
   },
   "outputs": [
    {
     "name": "stdout",
     "output_type": "stream",
     "text": [
      "every\n",
      "6\n",
      "11\n",
      "(6, 11)\n"
     ]
    }
   ],
   "source": [
    "match = re.search(r\"every\", \"Hello everyone!\")\n",
    "if match:\n",
    "    print(match.group())\n",
    "    print(match.start())\n",
    "    print(match.end())\n",
    "    print(match.span())\n",
    "else:\n",
    "    print(\"Not really\")"
   ]
  },
  {
   "cell_type": "code",
   "execution_count": 6,
   "metadata": {
    "execution": {
     "iopub.execute_input": "2022-10-15T09:26:33.181472Z",
     "iopub.status.busy": "2022-10-15T09:26:33.181249Z",
     "iopub.status.idle": "2022-10-15T09:26:33.184285Z",
     "shell.execute_reply": "2022-10-15T09:26:33.183813Z",
     "shell.execute_reply.started": "2022-10-15T09:26:33.181457Z"
    }
   },
   "outputs": [
    {
     "name": "stdout",
     "output_type": "stream",
     "text": [
      "['o', 'o']\n"
     ]
    }
   ],
   "source": [
    "print(re.findall(r\"o\", \"Hello everyone!\"))"
   ]
  },
  {
   "cell_type": "markdown",
   "metadata": {},
   "source": [
    "Dále se používá funkce `re.sub` pro nahrazování řetězců jiným řetězcem."
   ]
  },
  {
   "cell_type": "code",
   "execution_count": 8,
   "metadata": {
    "execution": {
     "iopub.execute_input": "2022-10-15T09:27:15.101916Z",
     "iopub.status.busy": "2022-10-15T09:27:15.101697Z",
     "iopub.status.idle": "2022-10-15T09:27:15.104658Z",
     "shell.execute_reply": "2022-10-15T09:27:15.104246Z",
     "shell.execute_reply.started": "2022-10-15T09:27:15.101897Z"
    },
    "tags": []
   },
   "outputs": [
    {
     "name": "stdout",
     "output_type": "stream",
     "text": [
      "Hello everyone!\n"
     ]
    }
   ],
   "source": [
    "print(re.sub(r\"a\", \"o\", \"Hella everyane!\"))"
   ]
  },
  {
   "cell_type": "markdown",
   "metadata": {},
   "source": [
    "## Speciální znaky používané pro regulární výrazy\n",
    "\n",
    "Nejjednoduším speciálním znakem je `.`, která zastupuje libovolný znak."
   ]
  },
  {
   "cell_type": "code",
   "execution_count": 8,
   "metadata": {},
   "outputs": [],
   "source": [
    "pattern=r\"H.\"\n",
    "string=\"Hello everyone!\"\n",
    "\n",
    "if re.match(pattern,string):\n",
    "    print(\"Match\")"
   ]
  },
  {
   "cell_type": "markdown",
   "metadata": {},
   "source": [
    "Symboly `^` a `$` se používají pro začátek a konec řetězce. "
   ]
  },
  {
   "cell_type": "code",
   "execution_count": 9,
   "metadata": {},
   "outputs": [],
   "source": [
    "pattern = r\"^gr.y$\"\n",
    "\n",
    "if re.match(pattern,\"gray\"):\n",
    "    print(\"Match 1\")\n",
    "    \n",
    "if re.match(pattern,\"grey\"):\n",
    "    print(\"Match 2\")\n",
    "    \n",
    "if re.match(pattern,\"grey mouse\"):\n",
    "    print(\"Match 3\")"
   ]
  },
  {
   "cell_type": "markdown",
   "metadata": {},
   "source": [
    "## Třídy znaků\n",
    "Další možností je použití tzv. třídy znaků ve tvaru `[abc]`, případně `[A-Z]`, `[0-9]`, `[A-Za-z]` apod."
   ]
  },
  {
   "cell_type": "code",
   "execution_count": 10,
   "metadata": {},
   "outputs": [],
   "source": [
    "pattern=r\"[aeiou]\"\n",
    "string=\"Hello everyone!\"\n",
    "\n",
    "print(re.findall(pattern,string))"
   ]
  },
  {
   "cell_type": "markdown",
   "metadata": {},
   "source": [
    "Mezi speciální znaky se mohou dále počítat např. `+` pro \\\"jedna a více opakování\\\", `*` pro \\\"nula a více opakování\\\" a `?` pro \\\"nula nebo jedna\\\" opakování. Pokud je třeba zvolit přesně rozmezí počtu opakování, pak se toto rozmezí může psát do složených závorek, např. `{1,3}`."
   ]
  },
  {
   "cell_type": "code",
   "execution_count": 11,
   "metadata": {},
   "outputs": [],
   "source": [
    "pattern=r\"ice-?cream\"\n",
    "string=\"I like ice-cream, do you like icecream?\"\n",
    "\n",
    "print(re.findall(pattern,string))"
   ]
  },
  {
   "cell_type": "code",
   "execution_count": 12,
   "metadata": {},
   "outputs": [],
   "source": [
    "pattern=r\"0{2,3}$\"\n",
    "if re.match(pattern,\"0\"):\n",
    "    print(\"Match 0\")\n",
    "if re.match(pattern,\"00\"):\n",
    "    print(\"Match 1\")\n",
    "if re.match(pattern,\"000\"):\n",
    "    print(\"Match 2\")\n",
    "if re.match(pattern,\"0000\"):\n",
    "    print(\"Match 3\")"
   ]
  },
  {
   "cell_type": "markdown",
   "metadata": {},
   "source": [
    "V rámci tříd znaků můžeme využít i inverze s použití symbolu `^`. S její pomocí se mohou např. nalézt celý řetězec obsažený v uvozovkách."
   ]
  },
  {
   "cell_type": "code",
   "execution_count": 13,
   "metadata": {},
   "outputs": [
    {
     "name": "stdout",
     "output_type": "stream",
     "text": [
      "\"another text & some digits 0123456\"\n",
      "another text & some digits 0123456\n"
     ]
    }
   ],
   "source": [
    "text=\"\"\" Some text with \"another text & some digits 0123456\" in quotes. \"\"\"\n",
    "\n",
    "pattern=r\"\\\"[^\\\"]+\\\"\"\n",
    "for i in re.findall(pattern,text):\n",
    "    print(i)\n",
    "    \n",
    "pattern=r\"\\\"([^\\\"]+)\\\"\"\n",
    "for i in re.findall(pattern,text):\n",
    "    print(i)"
   ]
  },
  {
   "cell_type": "markdown",
   "metadata": {},
   "source": [
    "## Skupiny\n",
    "V tomto příkladě se vyskytovaly tzv. skupiny definované závorkou `()`. Pomocí ní se mohou z výrazu extrahovat určité úseky, nastavit opakování apod."
   ]
  },
  {
   "cell_type": "code",
   "execution_count": 14,
   "metadata": {},
   "outputs": [
    {
     "name": "stdout",
     "output_type": "stream",
     "text": [
      "text\n",
      "in\n"
     ]
    }
   ],
   "source": [
    "text=\"\"\" Some text text with \"another text & some digits 0123456\" in in quotes. \"\"\"\n",
    "\n",
    "pattern=r\"([a-zA-Z]+) \\1\"\n",
    "for i in re.findall(pattern,text):\n",
    "    print(i)"
   ]
  },
  {
   "cell_type": "markdown",
   "metadata": {},
   "source": [
    "Jedna z velice často používaných funkcí je nahrazování řetězce jiným za použití funkce `re.sub` ve tvaru `re.sub(what,by,text)`. V druhém argumentu může být místo řetězce obsažena i funkce, která naleznutý řetězec dokáže zpracovat. Zde je ale potřeba uvědomit si, že vstup do této funkce je ve tvaru `re.match`. \n",
    "\n",
    "Příklad u textu se špatným formátováním začátku nové věty (často chybí mezera za tečkou a věta začíná malým písmenem):"
   ]
  },
  {
   "cell_type": "code",
   "execution_count": 15,
   "metadata": {},
   "outputs": [
    {
     "name": "stdout",
     "output_type": "stream",
     "text": [
      "Lorem ipsum dolor sit amet, consectetur adipiscing\n",
      "elit. Fusce fermentum nulla a nisi consequat gravida. Nullam \n",
      "pharetra nibh vitae dictum sagittis. Sed laoreet \n",
      "nec turpis sed convallis. Ut egestas, enim ut tincidunt bibendum, \n",
      "nisi dui luctus magna, eget porta turpis velit nec erat. \n",
      "Duis magna erat, gravida nec ornare et. \n"
     ]
    }
   ],
   "source": [
    "text=\"\"\"Lorem ipsum dolor sit amet, consectetur adipiscing\n",
    "elit. fusce fermentum nulla a nisi consequat gravida.nullam \n",
    "pharetra nibh vitae dictum sagittis. Sed laoreet \n",
    "nec turpis sed convallis.Ut egestas, enim ut tincidunt bibendum, \n",
    "nisi dui luctus magna, eget porta turpis velit nec erat. \n",
    "Duis magna erat, gravida nec ornare et. \"\"\"\n",
    "\n",
    "text=re.sub(r\"\\. ?([A-Za-z])\",r\". \\1\",text) # adding space where it should be\n",
    "\n",
    "def upper(match):\n",
    "    return match.group().upper()\n",
    "\n",
    "text=re.sub(r\"\\. [a-z]\",upper,text) # capitalize each sentence\n",
    "print(text)"
   ]
  },
  {
   "cell_type": "markdown",
   "metadata": {},
   "source": [
    "Na tomto příkladě je ukázána užitečnost funkce `re.sub`. Ve vytvořené funkci `upper` se potom využívají funkce třídy `string`."
   ]
  },
  {
   "cell_type": "code",
   "execution_count": 16,
   "metadata": {},
   "outputs": [
    {
     "name": "stdout",
     "output_type": "stream",
     "text": [
      "HELLO WORLD\n",
      "Hello world\n",
      "hello world\n"
     ]
    }
   ],
   "source": [
    "print(\"helLo wORLd\".upper())\n",
    "print(\"helLo wORLd\".capitalize())\n",
    "print(\"helLo wORLd\".lower())"
   ]
  },
  {
   "cell_type": "markdown",
   "metadata": {},
   "source": [
    "## Speciální třídy\n",
    "\n",
    "Existují některé speciální třídy znaků, jako např. `\\d` pro čísla `[0-9]`, `\\s` pro whitespace `[\\t\\n\\r\\f\\v]` a `\\w` pro `[A-Za-z0-9_]`. Při použití Unicode potom `\\w` zahrnuje i speciální znaky (diakritiku, azbuku,...). Velká písmena `\\D`, `\\S` a `\\W` se potom používají jako opak k `\\d`, `\\s` a `\\w`."
   ]
  },
  {
   "cell_type": "code",
   "execution_count": 17,
   "metadata": {},
   "outputs": [
    {
     "name": "stdout",
     "output_type": "stream",
     "text": [
      "hello\n",
      "čau\n",
      "привет\n",
      "你好\n"
     ]
    }
   ],
   "source": [
    "text=\"hello, čau, привет, 你好, 😀\"\n",
    "\n",
    "pattern=r\"[\\w]+\"\n",
    "for i in re.findall(pattern,text):\n",
    "    print(i)"
   ]
  },
  {
   "cell_type": "markdown",
   "metadata": {},
   "source": [
    "## Některé ukázky použití regexu\n",
    "\n",
    "### HTML"
   ]
  },
  {
   "cell_type": "markdown",
   "metadata": {},
   "source": [
    "Demonstrováno bude např. odstranění všech atributů tagů z HTML kódu."
   ]
  },
  {
   "cell_type": "code",
   "execution_count": 18,
   "metadata": {},
   "outputs": [],
   "source": [
    "html=\"\"\"Lorem ipsum <b style=\"color:blue\">dolor</b> sit amet, consectetur adipiscing elit. <br>\n",
    "<a href=\"http://example.com\">Fusce <b>fermentum</b> nulla</a> a <i>nisi</i> consequat gravida.\"\"\""
   ]
  },
  {
   "cell_type": "markdown",
   "metadata": {},
   "source": [
    "Lorem ipsum <b style=\"color:blue\">dolor</b> sit amet, consectetur adipiscing elit. <br>\n",
    "<a href=\"http://example.com\">Fusce <b>fermentum</b> nulla</a> a <i>nisi</i> consequat gravida."
   ]
  },
  {
   "cell_type": "code",
   "execution_count": 19,
   "metadata": {},
   "outputs": [
    {
     "name": "stdout",
     "output_type": "stream",
     "text": [
      "Lorem ipsum <b style=\"color:blue\">dolor</b> sit amet, consectetur adipiscing elit. <br>\n",
      "<a href=\"http://example.com\">Fusce <b>fermentum</b> nulla</a> a <i>nisi</i> consequat gravida. \n",
      "\n",
      " Lorem ipsum <b>dolor</b> sit amet, consectetur adipiscing elit. <br>\n",
      "<a>Fusce <b>fermentum</b> nulla</a> a <i>nisi</i> consequat gravida.\n"
     ]
    }
   ],
   "source": [
    "pattern=r\"<([a-z]+)[^>]*>\"\n",
    "print(html,\"\\n\\n\",re.sub(pattern,r\"<\\1>\",html))"
   ]
  },
  {
   "cell_type": "markdown",
   "metadata": {},
   "source": [
    "Podobným způsobem se mohou hledat párové HTML tagy."
   ]
  },
  {
   "cell_type": "code",
   "execution_count": 20,
   "metadata": {},
   "outputs": [
    {
     "name": "stdout",
     "output_type": "stream",
     "text": [
      "('<b style=\"color:blue\">dolor</b>', 'b', ' style=\"color:blue\"')\n",
      "('<a href=\"http://example.com\">Fusce <b>fermentum</b> nulla</a>', 'a', ' href=\"http://example.com\"')\n",
      "('<i>nisi</i>', 'i', '')\n"
     ]
    }
   ],
   "source": [
    "pattern=r\"(<([a-z]+)( ?[\\w]+=\\\"[^\\\"]+\\\")* *>.*</\\2>)\"\n",
    "\n",
    "for i in re.findall(pattern,html):\n",
    "    print(i)"
   ]
  },
  {
   "cell_type": "markdown",
   "metadata": {},
   "source": [
    "### e-mail\n",
    "\n",
    "V praxi se mohou regulární výrazy používat třeba k ověřování správného zadávání e-mailové adresy."
   ]
  },
  {
   "cell_type": "code",
   "execution_count": 21,
   "metadata": {},
   "outputs": [
    {
     "name": "stdout",
     "output_type": "stream",
     "text": [
      "Incorrect\n"
     ]
    }
   ],
   "source": [
    "maybe_email=\"abc@nic\"\n",
    "\n",
    "pattern=r\"[\\w\\.-]+@[\\w\\.-]+\\.[\\w]+\"\n",
    "if re.match(pattern,maybe_email):\n",
    "    print(\"Correct\")\n",
    "else:\n",
    "    print(\"Incorrect\")"
   ]
  },
  {
   "cell_type": "code",
   "execution_count": 22,
   "metadata": {},
   "outputs": [
    {
     "name": "stdout",
     "output_type": "stream",
     "text": [
      "Correct\n"
     ]
    }
   ],
   "source": [
    "maybe_email=\"abc@nic.com\"\n",
    "\n",
    "pattern=r\"[\\w\\.-]+@[\\w\\.-]+\\.[\\w]+\"\n",
    "if re.match(pattern,maybe_email):\n",
    "    print(\"Correct\")\n",
    "else:\n",
    "    print(\"Incorrect\")"
   ]
  },
  {
   "cell_type": "markdown",
   "metadata": {},
   "source": [
    "Stejným výrazem se však dají extrahovat všechny e-mailové adresy z textu."
   ]
  },
  {
   "cell_type": "code",
   "execution_count": 23,
   "metadata": {},
   "outputs": [
    {
     "name": "stdout",
     "output_type": "stream",
     "text": [
      "q-uam@maur.up.is\n",
      "Nun_c98@porta.com\n",
      "non@ma.ssa\n"
     ]
    }
   ],
   "source": [
    "text=\"\"\"\n",
    "<html>...\n",
    "Lorem ipsum dolor <a>sit amet</a>, consectetur adipiscing elit.<br> Phasellus \n",
    "ultrices posuere <a>tincidunt</a>. Proin <a>eu sodales</a> est, eu finibus odio. \n",
    "Suspendisse et q-uam@maur.up.is. Etiam ultrices ex lorem, sed dignissim \n",
    "libero varius tincidunt. Quisque eget libero interdum, efficitur enim \n",
    "vitae, feugiat libero. In nec luctus nisl. Nun_c98@porta.com commodo enim quis \n",
    "imperdiet. Fusce non@ma.ssa lacus.\n",
    "...</html>\n",
    "\"\"\"\n",
    "pattern=r\"[\\w\\.-]+@[\\w\\.-]+\\.[\\w]+\"\n",
    "for i in re.findall(pattern,text):\n",
    "    print(i)"
   ]
  },
  {
   "cell_type": "markdown",
   "metadata": {},
   "source": [
    "Z tohoto důvodu se nedoporučuje psát e-mailové adresy přímo do html kódu. "
   ]
  }
 ],
 "metadata": {
  "kernelspec": {
   "display_name": "Python 3 (ipykernel)",
   "language": "python",
   "name": "python3"
  },
  "language_info": {
   "codemirror_mode": {
    "name": "ipython",
    "version": 3
   },
   "file_extension": ".py",
   "mimetype": "text/x-python",
   "name": "python",
   "nbconvert_exporter": "python",
   "pygments_lexer": "ipython3",
   "version": "3.10.5"
  }
 },
 "nbformat": 4,
 "nbformat_minor": 4
}
