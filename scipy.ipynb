{
 "cells": [
  {
   "cell_type": "markdown",
   "metadata": {},
   "source": [
    "<div><img src=\"https://www.fullstackpython.com/img/logos/scipy.png\" width=300></div>\n",
    "\n",
    "* soubor matematických funkcí a operací\n",
    "* postavena na NumPy\n",
    "* alternativa k MATLAB, Octave\n",
    "* MATLAB \n",
    "  *  má prostředí, které usnadňuje práci\n",
    "  *  licence\n",
    "* Python \n",
    "  *  je více flexibilní\n",
    "  *  zadarmo, open-source"
   ]
  },
  {
   "cell_type": "code",
   "execution_count": null,
   "metadata": {},
   "outputs": [],
   "source": [
    "import numpy as np\n",
    "import matplotlib as mpl\n",
    "import matplotlib.pyplot as plt\n",
    "from mpl_toolkits.mplot3d import Axes3D"
   ]
  },
  {
   "cell_type": "markdown",
   "metadata": {},
   "source": [
    "## Speciální funkce\n",
    "* různé matematické funkce a fyzikální vzorečky\n",
    "* vstup a výstup funkcí jsou obvykle ndarray"
   ]
  },
  {
   "cell_type": "code",
   "execution_count": null,
   "metadata": {},
   "outputs": [],
   "source": [
    "from scipy import special as sc"
   ]
  },
  {
   "cell_type": "markdown",
   "metadata": {},
   "source": [
    "### př: gamma funkce"
   ]
  },
  {
   "cell_type": "code",
   "execution_count": null,
   "metadata": {
    "scrolled": true
   },
   "outputs": [],
   "source": [
    "x = np.linspace(0.1,5,1000)\n",
    "y = sc.gamma(x)\n",
    "plt.plot(x,y); # in jupyter it does not produce output"
   ]
  },
  {
   "cell_type": "markdown",
   "metadata": {},
   "source": [
    "### př: beta funkce"
   ]
  },
  {
   "cell_type": "code",
   "execution_count": null,
   "metadata": {},
   "outputs": [],
   "source": [
    "X, Y = np.meshgrid(x, x)\n",
    "Z = sc.beta(X, Y)\n",
    "ax = plt.axes(projection='3d')\n",
    "ax.plot_surface(X, Y, Z,)\n",
    "ax.set_title('Beta function')\n",
    "ax.set_xlabel('x')\n",
    "ax.set_ylabel('y');"
   ]
  },
  {
   "cell_type": "markdown",
   "metadata": {},
   "source": [
    "## Integrace"
   ]
  },
  {
   "cell_type": "code",
   "execution_count": null,
   "metadata": {},
   "outputs": [],
   "source": [
    "from scipy import integrate"
   ]
  },
  {
   "cell_type": "markdown",
   "metadata": {},
   "source": [
    "### Quad\n",
    "* integrace na reálných číslech\n",
    "* výstup je tuple (aproximace výsledku, chyba)\n",
    "* využití lambda výrazů"
   ]
  },
  {
   "cell_type": "code",
   "execution_count": null,
   "metadata": {},
   "outputs": [],
   "source": [
    "import math\n",
    "integrate.quad(np.sin, 0, math.pi/2)"
   ]
  },
  {
   "cell_type": "code",
   "execution_count": null,
   "metadata": {},
   "outputs": [],
   "source": [
    "integrate.quad(lambda x: np.exp(-x) , 0, np.inf)"
   ]
  },
  {
   "cell_type": "code",
   "execution_count": null,
   "metadata": {},
   "outputs": [],
   "source": [
    "# ...Warning\n",
    "integrate.quad(lambda x: x , 0, np.inf)"
   ]
  },
  {
   "cell_type": "markdown",
   "metadata": {},
   "source": [
    "### dblquad, nquad\n",
    "* dvojitá a n-tá integrace na reálných číslech\n",
    "* meze integrace mohou být závislé na integrujicí proměnné\n",
    "* dblquad a nquad pro n = 2 mají \"prohozené\" meze"
   ]
  },
  {
   "cell_type": "code",
   "execution_count": null,
   "metadata": {},
   "outputs": [],
   "source": [
    "func1 = lambda x,z: x*x*z\n",
    "integrate.dblquad(func1, 0, 1, 0, 5)  # boundaries for x are 0, 5"
   ]
  },
  {
   "cell_type": "code",
   "execution_count": null,
   "metadata": {},
   "outputs": [],
   "source": [
    "func2 = lambda x,z: x*z\n",
    "integrate.dblquad(func2, 0, 1, lambda z: 1+z, lambda z: 5-z)"
   ]
  },
  {
   "cell_type": "code",
   "execution_count": null,
   "metadata": {},
   "outputs": [],
   "source": [
    "integrate.nquad(func1, [[0,5], [0, 1]])   # reverse order than dblquad"
   ]
  },
  {
   "cell_type": "code",
   "execution_count": null,
   "metadata": {},
   "outputs": [],
   "source": [
    "integrate.nquad(func2, [lambda z: [1+z, 5-z], [0,1]])"
   ]
  },
  {
   "cell_type": "markdown",
   "metadata": {},
   "source": [
    "### Aproximace integrace"
   ]
  },
  {
   "cell_type": "markdown",
   "metadata": {},
   "source": [
    "* libovolné dělení intervalu\n",
    " * defaultně $dx = 1$\n",
    "* trapz: lineární interpolace\n",
    "* simps: průběh funkce mezi třemi body aproximuje parabolou"
   ]
  },
  {
   "cell_type": "code",
   "execution_count": null,
   "metadata": {},
   "outputs": [],
   "source": [
    "aux = np.linspace(0, math.pi/2, 1000)\n",
    "x = np.sin(aux)\n",
    "integrate.trapz(x)  # ...default dx = 1.0"
   ]
  },
  {
   "cell_type": "code",
   "execution_count": null,
   "metadata": {},
   "outputs": [],
   "source": [
    "aux = np.linspace(0, math.pi/2, 1000)\n",
    "x = np.sin(aux)\n",
    "integrate.trapz(x, aux)"
   ]
  },
  {
   "cell_type": "code",
   "execution_count": null,
   "metadata": {},
   "outputs": [],
   "source": [
    "integrate.simps(x, aux)"
   ]
  },
  {
   "cell_type": "code",
   "execution_count": null,
   "metadata": {},
   "outputs": [],
   "source": [
    "1.0 - integrate.simps(x, aux) < 1.0 - integrate.trapz(x, aux)"
   ]
  },
  {
   "cell_type": "markdown",
   "metadata": {},
   "source": [
    "## Řešení ODR\n",
    "př: Bratův problém:\n",
    "* okrajová úloha na reálných číslech\n",
    "\n",
    "$y'' + e^y = 0$\n",
    "\n",
    "$y(0) = 0,\\; y(1) = 0$\n",
    "\n",
    "* potřeba transformace na systém ODR prvního řádu\n",
    "\n",
    "$ y_0' = y_1$\n",
    "\n",
    "$ y_1' = -e^{y_0}$"
   ]
  },
  {
   "cell_type": "code",
   "execution_count": null,
   "metadata": {},
   "outputs": [],
   "source": [
    "func = lambda x,y: np.vstack((y[1], -np.exp(y[0])))"
   ]
  },
  {
   "cell_type": "markdown",
   "metadata": {},
   "source": [
    "definujeme mřížku a okrajové podmínky:"
   ]
  },
  {
   "cell_type": "code",
   "execution_count": null,
   "metadata": {},
   "outputs": [],
   "source": [
    "mesh = np.linspace(0, 1, 100)\n",
    "bc = lambda x,y: np.array([x[0], y[0]])"
   ]
  },
  {
   "cell_type": "markdown",
   "metadata": {},
   "source": [
    "připravíme pole pro výsledky:"
   ]
  },
  {
   "cell_type": "code",
   "execution_count": null,
   "metadata": {},
   "outputs": [],
   "source": [
    "y = np.zeros((2, mesh.size))   # length of y in func is 2 "
   ]
  },
  {
   "cell_type": "markdown",
   "metadata": {},
   "source": [
    "řešení:"
   ]
  },
  {
   "cell_type": "code",
   "execution_count": null,
   "metadata": {},
   "outputs": [],
   "source": [
    "res = integrate.solve_bvp(func, bc, mesh, y)"
   ]
  },
  {
   "cell_type": "code",
   "execution_count": null,
   "metadata": {},
   "outputs": [],
   "source": [
    "plt.plot(mesh, res.sol(mesh)[0]);"
   ]
  },
  {
   "cell_type": "markdown",
   "metadata": {},
   "source": [
    "* Pro počáteční podmínky máme funkci *solve_ivp*"
   ]
  },
  {
   "cell_type": "markdown",
   "metadata": {},
   "source": [
    "## Interpolace\n",
    "\n",
    "### interp1d\n",
    "* interpolace v 1d\n",
    "* lineární interpolace\n",
    "* instanci této třídy lze použít jako funkci ( \\_\\_call__ )"
   ]
  },
  {
   "cell_type": "code",
   "execution_count": null,
   "metadata": {},
   "outputs": [],
   "source": [
    "from scipy.interpolate import interp1d"
   ]
  },
  {
   "cell_type": "code",
   "execution_count": null,
   "metadata": {
    "scrolled": true
   },
   "outputs": [],
   "source": [
    "n = 10\n",
    "x = np.linspace(0, 2*math.pi, n)\n",
    "x_new = np.linspace(0, 2*math.pi, 10*n)\n",
    "y = np.sin(x)\n",
    "f1 = interp1d(x, y)\n",
    "f2 = interp1d(x, y, kind='quadratic')\n",
    "plt.plot(x, y, 'o', x_new, f1(x_new), x_new, f2(x_new), '--')\n",
    "plt.legend(['data', 'linear', 'quadratic']);"
   ]
  },
  {
   "cell_type": "markdown",
   "metadata": {},
   "source": [
    "* hodnota nejbližšího, předešlého a dalšího bodu "
   ]
  },
  {
   "cell_type": "code",
   "execution_count": null,
   "metadata": {},
   "outputs": [],
   "source": [
    "f1 = interp1d(x, y, kind='nearest')\n",
    "f2 = interp1d(x, y, kind='previous')\n",
    "f3 = interp1d(x, y, kind='next')\n",
    "plt.plot(x, y, 'o', x_new, f1(x_new), x_new, f2(x_new), '--', x_new, f3(x_new), ':')\n",
    "plt.legend(['data', 'nearest', 'previous', 'next']);"
   ]
  },
  {
   "cell_type": "markdown",
   "metadata": {},
   "source": [
    "### griddata\n",
    "* vícerozměrná interpolace\n",
    "#### př:\n",
    "* chceme interpolovat funkci $f:\\mathbb{R}^2\\longrightarrow\\mathbb{R}$\n",
    "* známe pouze hodnoty v bodech (x[i], y[i])\n",
    "* body nevytvářejí pravidelnou mřížku"
   ]
  },
  {
   "cell_type": "code",
   "execution_count": null,
   "metadata": {},
   "outputs": [],
   "source": [
    "from scipy.interpolate import griddata\n",
    "x, y = np.mgrid[0:1:100j, 0:1:100j]\n",
    "points = np.random.rand(1000, 2)           # decrease it to 100\n",
    "def func(x, y):\n",
    "    xs, ys = 0.5, 0.5\n",
    "    R = 1\n",
    "    return (xs-x)*(xs-x) + (ys-y)*(ys-y) - R*R\n",
    "values = func(points[:,0], points[:,1])\n",
    "f1 = griddata(points, values, (x, y))\n",
    "plt.plot(points[:,0], points[:,1], 'k+')\n",
    "plt.imshow(f1, extent=(0,1,0,1))\n",
    "plt.colorbar();"
   ]
  },
  {
   "cell_type": "markdown",
   "metadata": {},
   "source": [
    "## Statistika"
   ]
  },
  {
   "cell_type": "markdown",
   "metadata": {},
   "source": [
    "### Spojitá rozdělení\n",
    "* náhodná veličina s normálním rozdělením"
   ]
  },
  {
   "cell_type": "code",
   "execution_count": null,
   "metadata": {},
   "outputs": [],
   "source": [
    "from scipy.stats import norm\n",
    "from scipy.stats import gamma"
   ]
  },
  {
   "cell_type": "code",
   "execution_count": null,
   "metadata": {},
   "outputs": [],
   "source": [
    "rvn = norm(loc=5, scale=3)\n",
    "rvg = gamma(loc=5, scale=3, a=2)"
   ]
  },
  {
   "cell_type": "markdown",
   "metadata": {},
   "source": [
    "* Kumulativní distribuční funkce"
   ]
  },
  {
   "cell_type": "code",
   "execution_count": null,
   "metadata": {},
   "outputs": [],
   "source": [
    "x = np.linspace(0, 10, 1000)\n",
    "plt.plot(x, rvn.cdf(x), x, rvg.cdf(x))\n",
    "plt.legend(['norm', 'gamma']);"
   ]
  },
  {
   "cell_type": "code",
   "execution_count": null,
   "metadata": {},
   "outputs": [],
   "source": [
    "rvn.cdf([0,5,10])"
   ]
  },
  {
   "cell_type": "markdown",
   "metadata": {},
   "source": [
    "* hustota pravděpodobnosti"
   ]
  },
  {
   "cell_type": "code",
   "execution_count": null,
   "metadata": {},
   "outputs": [],
   "source": [
    "plt.plot(x, rvn.pdf(x), x, rvg.pdf(x))\n",
    "plt.legend(['norm', 'gamma']);"
   ]
  },
  {
   "cell_type": "code",
   "execution_count": null,
   "metadata": {},
   "outputs": [],
   "source": [
    "rvn.pdf([0,5,10])"
   ]
  },
  {
   "cell_type": "markdown",
   "metadata": {},
   "source": [
    "* kvantilová funkce"
   ]
  },
  {
   "cell_type": "code",
   "execution_count": null,
   "metadata": {},
   "outputs": [],
   "source": [
    "plt.plot(x, rvn.ppf(x), x, rvg.ppf(x))\n",
    "plt.legend(['norm', 'gamma']);"
   ]
  },
  {
   "cell_type": "code",
   "execution_count": null,
   "metadata": {},
   "outputs": [],
   "source": [
    "rvn.ppf([0, 0.5, 1])"
   ]
  },
  {
   "cell_type": "markdown",
   "metadata": {},
   "source": [
    "* střední hodnota\n",
    " * pro normální rozdělení odpovídá loc"
   ]
  },
  {
   "cell_type": "code",
   "execution_count": null,
   "metadata": {},
   "outputs": [],
   "source": [
    "print('norm:  {}\\ngamma: {}\\n'.format(rvn.mean(), rvg.mean()))"
   ]
  },
  {
   "cell_type": "markdown",
   "metadata": {},
   "source": [
    "* rozptyl\n",
    " * pro normální rozdělení odpovídá scale"
   ]
  },
  {
   "cell_type": "code",
   "execution_count": null,
   "metadata": {},
   "outputs": [],
   "source": [
    "print('norm:  {}\\ngamma: {}\\n'.format(rvn.var(), rvg.var()))"
   ]
  },
  {
   "cell_type": "markdown",
   "metadata": {},
   "source": [
    "* stats"
   ]
  },
  {
   "cell_type": "code",
   "execution_count": null,
   "metadata": {},
   "outputs": [],
   "source": [
    "print('norm:  {}\\ngamma: {}\\n'.format(rvn.stats(), rvg.stats()))"
   ]
  },
  {
   "cell_type": "markdown",
   "metadata": {},
   "source": [
    "pokud chceme získat zpět standardní rozdělení (loc = 0, scale = 1), tak transformujeme hustotu pravděpodobnosti následujícím způsobem\n",
    "\n",
    "$f^*_{std}(x) = f(scale\\cdot x + loc)$\n",
    "\n",
    "a škálujeme tak, aby $A\\int_{\\mathbb{R}}f^*_{std}=1$"
   ]
  },
  {
   "cell_type": "code",
   "execution_count": null,
   "metadata": {},
   "outputs": [],
   "source": [
    "x2 = np.linspace(0, 10, 100)\n",
    "plt.plot(x2, gamma(loc=0, scale=1, a=2).pdf(x2), 'k+', x, rvg.pdf((3*x+5)),  x, 3*rvg.pdf((3*x+5)),  )\n",
    "plt.legend(['std', 'trans', 'trans + scale']);"
   ]
  },
  {
   "cell_type": "markdown",
   "metadata": {},
   "source": [
    "* standardní odchylka"
   ]
  },
  {
   "cell_type": "code",
   "execution_count": null,
   "metadata": {},
   "outputs": [],
   "source": [
    "print('norm:  {}\\ngamma: {}\\n'.format(rvn.std(), rvg.std()))"
   ]
  },
  {
   "cell_type": "markdown",
   "metadata": {},
   "source": [
    "* obecné momenty"
   ]
  },
  {
   "cell_type": "code",
   "execution_count": null,
   "metadata": {},
   "outputs": [],
   "source": [
    "print('norm:  {}\\ngamma: {}\\n'.format(rvn.moment(1), rvg.moment(1)))"
   ]
  },
  {
   "cell_type": "markdown",
   "metadata": {},
   "source": [
    "* generování sekvence náhodných čísel dle určitého rozdělení\n",
    " * používá numpy.random\n",
    "\n",
    "nepreproduktibilní:"
   ]
  },
  {
   "cell_type": "code",
   "execution_count": null,
   "metadata": {},
   "outputs": [],
   "source": [
    "rvn.rvs(5)"
   ]
  },
  {
   "cell_type": "markdown",
   "metadata": {},
   "source": [
    "reproduktibilní:\n",
    " * RandomState"
   ]
  },
  {
   "cell_type": "code",
   "execution_count": null,
   "metadata": {},
   "outputs": [],
   "source": [
    "rvn.rvs(5, 12345)"
   ]
  },
  {
   "cell_type": "markdown",
   "metadata": {},
   "source": [
    "##### pozn:\n",
    "* dle dokumentace bychom měli spíš používat BitGenerators a Generators, jak jsme si říkali v NumPy\n",
    "* Proč?\n",
    " * RandomState je pro Legacy Generators"
   ]
  },
  {
   "cell_type": "markdown",
   "metadata": {},
   "source": [
    "### Diskrétní rozdělení\n",
    "* stejné metody, akorát pdf -> pmf\n",
    "* scale neexistuje"
   ]
  },
  {
   "cell_type": "code",
   "execution_count": null,
   "metadata": {},
   "outputs": [],
   "source": [
    "from scipy.stats import binom"
   ]
  },
  {
   "cell_type": "code",
   "execution_count": null,
   "metadata": {},
   "outputs": [],
   "source": [
    "rvb = binom(n=15, p=0.5, loc=5)"
   ]
  },
  {
   "cell_type": "code",
   "execution_count": null,
   "metadata": {
    "scrolled": true
   },
   "outputs": [],
   "source": [
    "rvb.stats()"
   ]
  },
  {
   "cell_type": "markdown",
   "metadata": {},
   "source": [
    "* Kumulační distribuční funkce"
   ]
  },
  {
   "cell_type": "code",
   "execution_count": null,
   "metadata": {},
   "outputs": [],
   "source": [
    "x = np.arange(0, 21)\n",
    "x_new = np.linspace(0, 20, 1000)\n",
    "F = interp1d(x, rvb.cdf(x), kind='previous')\n",
    "plt.plot(x_new, F(x_new));"
   ]
  },
  {
   "cell_type": "code",
   "execution_count": null,
   "metadata": {},
   "outputs": [],
   "source": [
    "rvb.cdf([0, 1, 2, 3, 4, 5, 6])"
   ]
  },
  {
   "cell_type": "markdown",
   "metadata": {},
   "source": [
    "* hustota pravděpodobnosti"
   ]
  },
  {
   "cell_type": "code",
   "execution_count": null,
   "metadata": {},
   "outputs": [],
   "source": [
    "x = np.arange(0, 21)\n",
    "plt.plot(x, rvb.pmf(x), 'o');"
   ]
  },
  {
   "cell_type": "markdown",
   "metadata": {},
   "source": [
    "* kvantilová funkce\n",
    " * cdf je stupňovitá funkce"
   ]
  },
  {
   "cell_type": "code",
   "execution_count": null,
   "metadata": {},
   "outputs": [],
   "source": [
    "x = np.arange(5, 21)\n",
    "rvb.ppf(rvb.cdf(x))"
   ]
  },
  {
   "cell_type": "code",
   "execution_count": null,
   "metadata": {},
   "outputs": [],
   "source": [
    "rvb.ppf(rvb.cdf(x)+1e-10)"
   ]
  },
  {
   "cell_type": "markdown",
   "metadata": {},
   "source": [
    "### Tvoření vlastního rozdělení\n",
    "\n",
    "#### spojité\n",
    " * tzn: subclassing rv_continuous"
   ]
  },
  {
   "cell_type": "code",
   "execution_count": null,
   "metadata": {},
   "outputs": [],
   "source": [
    "from scipy import stats"
   ]
  },
  {
   "cell_type": "code",
   "execution_count": null,
   "metadata": {},
   "outputs": [],
   "source": [
    "class MineDis(stats.rv_continuous):\n",
    "    def _pdf(self, x):\n",
    "        return np.where((-1 < x) & (x < 1), 0.5, 0)"
   ]
  },
  {
   "cell_type": "code",
   "execution_count": null,
   "metadata": {},
   "outputs": [],
   "source": [
    "rvd = MineDis()\n",
    "rvd.cdf(np.arange(-3, 3, 0.5))"
   ]
  },
  {
   "cell_type": "code",
   "execution_count": null,
   "metadata": {},
   "outputs": [],
   "source": [
    "rvd.pdf(np.arange(-3, 3, 0.5))"
   ]
  },
  {
   "cell_type": "code",
   "execution_count": null,
   "metadata": {},
   "outputs": [],
   "source": [
    "integrate.quad(rvd.pdf, -1, 1)"
   ]
  }
 ],
 "metadata": {
  "kernelspec": {
   "display_name": "Python 3 (ipykernel)",
   "language": "python",
   "name": "python3"
  },
  "language_info": {
   "codemirror_mode": {
    "name": "ipython",
    "version": 3
   },
   "file_extension": ".py",
   "mimetype": "text/x-python",
   "name": "python",
   "nbconvert_exporter": "python",
   "pygments_lexer": "ipython3",
   "version": "3.10.5"
  }
 },
 "nbformat": 4,
 "nbformat_minor": 4
}
